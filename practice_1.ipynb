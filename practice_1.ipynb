{
 "cells": [
  {
   "cell_type": "code",
   "execution_count": 1,
   "metadata": {},
   "outputs": [
    {
     "ename": "IndentationError",
     "evalue": "expected an indented block (<ipython-input-1-8ed69c997f36>, line 11)",
     "output_type": "error",
     "traceback": [
      "\u001b[0;36m  File \u001b[0;32m\"<ipython-input-1-8ed69c997f36>\"\u001b[0;36m, line \u001b[0;32m11\u001b[0m\n\u001b[0;31m    def booz():\u001b[0m\n\u001b[0m      ^\u001b[0m\n\u001b[0;31mIndentationError\u001b[0m\u001b[0;31m:\u001b[0m expected an indented block\n"
     ]
    }
   ],
   "source": [
    "import math\n",
    "\n",
    "\n",
    "print('hello world')\n",
    "\n",
    "\n",
    "class foo():\n",
    "    \n",
    "    def bar():\n",
    "        \n",
    "    def booz():\n",
    "\n",
    "        \n",
    "class foo2():\n"
   ]
  },
  {
   "cell_type": "code",
   "execution_count": 2,
   "metadata": {},
   "outputs": [
    {
     "data": {
      "text/plain": [
       "3.0"
      ]
     },
     "execution_count": 2,
     "metadata": {},
     "output_type": "execute_result"
    }
   ],
   "source": [
    "# Type Casting\n",
    "\n",
    "float(3)"
   ]
  },
  {
   "cell_type": "code",
   "execution_count": 3,
   "metadata": {},
   "outputs": [
    {
     "data": {
      "text/plain": [
       "3"
      ]
     },
     "execution_count": 3,
     "metadata": {},
     "output_type": "execute_result"
    }
   ],
   "source": [
    "int(3.4)"
   ]
  },
  {
   "cell_type": "code",
   "execution_count": 4,
   "metadata": {},
   "outputs": [
    {
     "data": {
      "text/plain": [
       "3"
      ]
     },
     "execution_count": 4,
     "metadata": {},
     "output_type": "execute_result"
    }
   ],
   "source": [
    "int(3.7)"
   ]
  },
  {
   "cell_type": "code",
   "execution_count": 8,
   "metadata": {},
   "outputs": [
    {
     "name": "stdout",
     "output_type": "stream",
     "text": [
      "123456789\n",
      "1\n",
      "['1', '2', '3', '4', '5', '6', '7', '8', '9']\n",
      "['1', '2', '3']\n"
     ]
    }
   ],
   "source": [
    "num = 123456789\n",
    "str1 = str(num)\n",
    "print(str1)\n",
    "print(str1[0])\n",
    "list1 = list(str1)\n",
    "print(list1)\n",
    "print(list1[:3])"
   ]
  },
  {
   "cell_type": "code",
   "execution_count": 18,
   "metadata": {},
   "outputs": [
    {
     "name": "stdout",
     "output_type": "stream",
     "text": [
      "how old are you? 123\n",
      "I'm 123 years old. Nice to meet you.\n"
     ]
    }
   ],
   "source": [
    "#user input\n",
    "\n",
    "# name = input(\"What is your name? \")\n",
    "name = eval(input(\"how old are you? \"))\n",
    "\n",
    "print(\"I'm \" + str(name) + \" years old. Nice to meet you.\")"
   ]
  },
  {
   "cell_type": "code",
   "execution_count": 35,
   "metadata": {},
   "outputs": [
    {
     "ename": "SyntaxError",
     "evalue": "unexpected EOF while parsing (<ipython-input-35-4b5cf895b08f>, line 10)",
     "output_type": "error",
     "traceback": [
      "\u001b[0;36m  File \u001b[0;32m\"<ipython-input-35-4b5cf895b08f>\"\u001b[0;36m, line \u001b[0;32m10\u001b[0m\n\u001b[0;31m    # type(age)\u001b[0m\n\u001b[0m               ^\u001b[0m\n\u001b[0;31mSyntaxError\u001b[0m\u001b[0;31m:\u001b[0m unexpected EOF while parsing\n"
     ]
    }
   ],
   "source": [
    "# age = eval(input(\"How old are you? \"))\n",
    "# type(age)\n",
    "\n",
    "\n",
    "eval(input(\"How old are you? \"))\n",
    "\n",
    "\n",
    "# age = input(\"How old are you? \")\n",
    "# print(age)\n",
    "# type(age)\n",
    "\n"
   ]
  },
  {
   "cell_type": "code",
   "execution_count": 26,
   "metadata": {},
   "outputs": [
    {
     "name": "stdout",
     "output_type": "stream",
     "text": [
      "I like a pen 100%, I have an apple 200%.\n"
     ]
    }
   ],
   "source": [
    "print(\"I like a %s 100%%, I have an %s 200%%.\" % (\"pen\",\"apple\"))"
   ]
  },
  {
   "cell_type": "code",
   "execution_count": 46,
   "metadata": {},
   "outputs": [
    {
     "data": {
      "text/plain": [
       "True"
      ]
     },
     "execution_count": 46,
     "metadata": {},
     "output_type": "execute_result"
    }
   ],
   "source": [
    "some_string = \"Python\"\n",
    "len(some_string)\n",
    "\n",
    "# some_string[3:5] == \"ho\"\n",
    "#some_string[1:5:2] == \"yh\"  #1에서 5전까지 슬라이싱해서 가져올 때 2칸씩 띄어서 가지고 와라\n",
    "some_string[::] == some_string[0:len(some_string):1] #0에서부터 6(끝)까지 가지고 오는데 1칸씩 가지고 와라\n",
    "# some_string[::-1] == \"nohtyp\"\n"
   ]
  },
  {
   "cell_type": "code",
   "execution_count": 49,
   "metadata": {},
   "outputs": [
    {
     "name": "stdout",
     "output_type": "stream",
     "text": [
      "Cython\n"
     ]
    }
   ],
   "source": [
    "some_string = \"Python\"\n",
    "# some_string[0] = \"c\"\n",
    "some_string = \"C\" + some_string[1:]\n",
    "print(some_string)"
   ]
  },
  {
   "cell_type": "code",
   "execution_count": 53,
   "metadata": {},
   "outputs": [
    {
     "data": {
      "text/plain": [
       "1"
      ]
     },
     "execution_count": 53,
     "metadata": {},
     "output_type": "execute_result"
    }
   ],
   "source": [
    "another_string = \"Python is easy programming language.\"\n",
    "another_string.count('p')"
   ]
  },
  {
   "cell_type": "code",
   "execution_count": 54,
   "metadata": {},
   "outputs": [
    {
     "data": {
      "text/plain": [
       "16"
      ]
     },
     "execution_count": 54,
     "metadata": {},
     "output_type": "execute_result"
    }
   ],
   "source": [
    "another_string.find('r')"
   ]
  },
  {
   "cell_type": "code",
   "execution_count": 58,
   "metadata": {},
   "outputs": [
    {
     "name": "stdout",
     "output_type": "stream",
     "text": [
      "P/y/t/h/o/n\n"
     ]
    }
   ],
   "source": [
    "comma = \"/\"\n",
    "\n",
    "commaed = comma.join(\"Python\")\n",
    "print(commaed)"
   ]
  },
  {
   "cell_type": "code",
   "execution_count": 60,
   "metadata": {},
   "outputs": [
    {
     "data": {
      "text/plain": [
       "['P', 'y', 't', 'h', 'o', 'n']"
      ]
     },
     "execution_count": 60,
     "metadata": {},
     "output_type": "execute_result"
    }
   ],
   "source": [
    "commaed.split(\"/\")"
   ]
  },
  {
   "cell_type": "code",
   "execution_count": 64,
   "metadata": {},
   "outputs": [
    {
     "name": "stdout",
     "output_type": "stream",
     "text": [
      "['홍길동', '010-1234-5678', '서울시'] ['010', '1234', '5678']\n"
     ]
    }
   ],
   "source": [
    "personal_info = \"홍길동 010-1234-5678 서울시\"\n",
    "splited_info = personal_info.split(\" \")\n",
    "phone_number = splited_info[1].split(\"-\")\n",
    "print(splited_info, phone_number)"
   ]
  },
  {
   "cell_type": "code",
   "execution_count": 70,
   "metadata": {},
   "outputs": [
    {
     "name": "stdout",
     "output_type": "stream",
     "text": [
      "Golang is easy programming language.\n"
     ]
    }
   ],
   "source": [
    "another_string2 = another_string.replace(\"Python\" , \"Golang\")\n",
    "print(another_string2)\n",
    "# print(another_string)"
   ]
  },
  {
   "cell_type": "code",
   "execution_count": 72,
   "metadata": {},
   "outputs": [
    {
     "data": {
      "text/plain": [
       "['python', 'golagng', 'java']"
      ]
     },
     "execution_count": 72,
     "metadata": {},
     "output_type": "execute_result"
    }
   ],
   "source": [
    "lang = []\n",
    "lang.append(\"python\")\n",
    "lang.append(\"golagng\")\n",
    "lang.append(\"java\")\n",
    "lang"
   ]
  },
  {
   "cell_type": "code",
   "execution_count": 73,
   "metadata": {
    "collapsed": true
   },
   "outputs": [],
   "source": [
    "lang.insert(1, \"c\")"
   ]
  },
  {
   "cell_type": "code",
   "execution_count": 74,
   "metadata": {},
   "outputs": [
    {
     "data": {
      "text/plain": [
       "['python', 'c', 'golagng', 'java']"
      ]
     },
     "execution_count": 74,
     "metadata": {},
     "output_type": "execute_result"
    }
   ],
   "source": [
    "lang"
   ]
  },
  {
   "cell_type": "code",
   "execution_count": 75,
   "metadata": {
    "collapsed": true
   },
   "outputs": [],
   "source": [
    "lang.remove(\"java\")"
   ]
  },
  {
   "cell_type": "code",
   "execution_count": 76,
   "metadata": {},
   "outputs": [
    {
     "data": {
      "text/plain": [
       "['python', 'c', 'golagng']"
      ]
     },
     "execution_count": 76,
     "metadata": {},
     "output_type": "execute_result"
    }
   ],
   "source": [
    "lang"
   ]
  },
  {
   "cell_type": "code",
   "execution_count": 77,
   "metadata": {},
   "outputs": [
    {
     "data": {
      "text/plain": [
       "['python', 'c', 'golagng']"
      ]
     },
     "execution_count": 77,
     "metadata": {},
     "output_type": "execute_result"
    }
   ],
   "source": [
    "lang"
   ]
  },
  {
   "cell_type": "code",
   "execution_count": 78,
   "metadata": {
    "collapsed": true
   },
   "outputs": [],
   "source": [
    "lang.append(\"java\")"
   ]
  },
  {
   "cell_type": "code",
   "execution_count": 79,
   "metadata": {},
   "outputs": [
    {
     "data": {
      "text/plain": [
       "['python', 'c', 'golagng', 'java']"
      ]
     },
     "execution_count": 79,
     "metadata": {},
     "output_type": "execute_result"
    }
   ],
   "source": [
    "lang"
   ]
  },
  {
   "cell_type": "code",
   "execution_count": 80,
   "metadata": {},
   "outputs": [
    {
     "data": {
      "text/plain": [
       "'golagng'"
      ]
     },
     "execution_count": 80,
     "metadata": {},
     "output_type": "execute_result"
    }
   ],
   "source": [
    "lang.pop(2)"
   ]
  },
  {
   "cell_type": "code",
   "execution_count": 81,
   "metadata": {},
   "outputs": [
    {
     "data": {
      "text/plain": [
       "['python', 'c', 'java']"
      ]
     },
     "execution_count": 81,
     "metadata": {},
     "output_type": "execute_result"
    }
   ],
   "source": [
    "lang"
   ]
  },
  {
   "cell_type": "code",
   "execution_count": 82,
   "metadata": {},
   "outputs": [
    {
     "data": {
      "text/plain": [
       "['python', 'c', 'java']"
      ]
     },
     "execution_count": 82,
     "metadata": {},
     "output_type": "execute_result"
    }
   ],
   "source": [
    "lang"
   ]
  },
  {
   "cell_type": "code",
   "execution_count": 83,
   "metadata": {
    "collapsed": true
   },
   "outputs": [],
   "source": [
    "numbers = [3,5,1,7,2,6,3,4,5]\n",
    "numbers.sort()"
   ]
  },
  {
   "cell_type": "code",
   "execution_count": 84,
   "metadata": {},
   "outputs": [
    {
     "data": {
      "text/plain": [
       "[1, 2, 3, 3, 4, 5, 5, 6, 7]"
      ]
     },
     "execution_count": 84,
     "metadata": {},
     "output_type": "execute_result"
    }
   ],
   "source": [
    "numbers"
   ]
  },
  {
   "cell_type": "code",
   "execution_count": 85,
   "metadata": {},
   "outputs": [
    {
     "name": "stdout",
     "output_type": "stream",
     "text": [
      "3\n",
      "[1, 2, 3, 4, 5, 5, 6, 7]\n"
     ]
    }
   ],
   "source": [
    "num = numbers.pop(3)\n",
    "print(num)\n",
    "print(numbers)"
   ]
  },
  {
   "cell_type": "code",
   "execution_count": 87,
   "metadata": {},
   "outputs": [
    {
     "name": "stdout",
     "output_type": "stream",
     "text": [
      "2\n",
      "[1, 3, 4, 5, 5, 6, 7]\n"
     ]
    }
   ],
   "source": [
    "num = numbers.pop(1)\n",
    "print(num)\n",
    "print(numbers)"
   ]
  },
  {
   "cell_type": "code",
   "execution_count": 89,
   "metadata": {},
   "outputs": [
    {
     "data": {
      "text/plain": [
       "2"
      ]
     },
     "execution_count": 89,
     "metadata": {},
     "output_type": "execute_result"
    }
   ],
   "source": [
    "numbers.index(4)"
   ]
  },
  {
   "cell_type": "code",
   "execution_count": 90,
   "metadata": {},
   "outputs": [
    {
     "data": {
      "text/plain": [
       "[1, 3, 4, 5, 5, 6, 7]"
      ]
     },
     "execution_count": 90,
     "metadata": {},
     "output_type": "execute_result"
    }
   ],
   "source": [
    "numbers"
   ]
  },
  {
   "cell_type": "code",
   "execution_count": 91,
   "metadata": {
    "collapsed": true
   },
   "outputs": [],
   "source": [
    "numbers.extend([10,100,1000])"
   ]
  },
  {
   "cell_type": "code",
   "execution_count": 92,
   "metadata": {},
   "outputs": [
    {
     "data": {
      "text/plain": [
       "[1, 3, 4, 5, 5, 6, 7, 10, 100, 1000]"
      ]
     },
     "execution_count": 92,
     "metadata": {},
     "output_type": "execute_result"
    }
   ],
   "source": [
    "numbers"
   ]
  },
  {
   "cell_type": "code",
   "execution_count": 93,
   "metadata": {
    "collapsed": true
   },
   "outputs": [],
   "source": [
    "numbers[0] = 2"
   ]
  },
  {
   "cell_type": "code",
   "execution_count": 94,
   "metadata": {},
   "outputs": [
    {
     "data": {
      "text/plain": [
       "[2, 3, 4, 5, 5, 6, 7, 10, 100, 1000]"
      ]
     },
     "execution_count": 94,
     "metadata": {},
     "output_type": "execute_result"
    }
   ],
   "source": [
    "numbers"
   ]
  },
  {
   "cell_type": "markdown",
   "metadata": {},
   "source": [
    "numbers += [1,2,3,]"
   ]
  },
  {
   "cell_type": "code",
   "execution_count": 97,
   "metadata": {},
   "outputs": [
    {
     "data": {
      "text/plain": [
       "[2, 3, 4, 5, 5, 6, 7, 10, 100, 1000]"
      ]
     },
     "execution_count": 97,
     "metadata": {},
     "output_type": "execute_result"
    }
   ],
   "source": [
    "numbers"
   ]
  },
  {
   "cell_type": "code",
   "execution_count": 102,
   "metadata": {
    "collapsed": true
   },
   "outputs": [],
   "source": [
    "tuple1 = (1,2,3,4)\n",
    "#del tuple1[0]\n",
    "# tuple1[1] = 200"
   ]
  },
  {
   "cell_type": "code",
   "execution_count": 120,
   "metadata": {},
   "outputs": [
    {
     "data": {
      "text/plain": [
       "(1, 2, 3, 4, 5, 6)"
      ]
     },
     "execution_count": 120,
     "metadata": {},
     "output_type": "execute_result"
    }
   ],
   "source": [
    "tuple2 = (5,6)\n",
    "tuple3 = tuple1 + tuple2\n",
    "tuple3"
   ]
  },
  {
   "cell_type": "code",
   "execution_count": 125,
   "metadata": {},
   "outputs": [
    {
     "ename": "SyntaxError",
     "evalue": "invalid syntax (<ipython-input-125-5ec70d4be83d>, line 1)",
     "output_type": "error",
     "traceback": [
      "\u001b[0;36m  File \u001b[0;32m\"<ipython-input-125-5ec70d4be83d>\"\u001b[0;36m, line \u001b[0;32m1\u001b[0m\n\u001b[0;31m    def tuple_switch((a,b,c))\u001b[0m\n\u001b[0m                     ^\u001b[0m\n\u001b[0;31mSyntaxError\u001b[0m\u001b[0;31m:\u001b[0m invalid syntax\n"
     ]
    }
   ],
   "source": [
    "def tuple_switch()\n",
    "    tmp_a = a\n",
    "    tmp_b = b\n",
    "    tmp = tmp_a\n",
    "    tmp_a = tmp_b\n",
    "    tmp_b = tmp\n",
    "    \n",
    "    return (tmp_a, tmp_b)\n",
    "\n",
    "\n"
   ]
  },
  {
   "cell_type": "code",
   "execution_count": null,
   "metadata": {
    "collapsed": true
   },
   "outputs": [],
   "source": [
    "#Conditions\n",
    "\n",
    "age = 17\n",
    "\n",
    "if age < 19 :\n",
    "    print(\"you are a teenager.\")"
   ]
  },
  {
   "cell_type": "code",
   "execution_count": 133,
   "metadata": {},
   "outputs": [
    {
     "name": "stdout",
     "output_type": "stream",
     "text": [
      "Hi there, What's your name? Namseok\n",
      "Hi, Namseok. guess the number: 95\n",
      "That's not what I wanted! The answer is 6\n"
     ]
    }
   ],
   "source": [
    "# numguess\n",
    "\n",
    "import random\n",
    "\n",
    "\n",
    "answer = random.randint(1,100)\n",
    "   \n",
    "user_name = input(\"Hi there, What's your name? \")\n",
    "guess = eval(input(\"Hi, \" + user_name + \". guess the number: \"))\n",
    "\n",
    "if guess == answer : \n",
    "    print(\"Correct! The answer is \" + str(answer))\n",
    "else :\n",
    "    print(\"That's not what I wanted! The answer is \" + str(answer))"
   ]
  },
  {
   "cell_type": "code",
   "execution_count": 140,
   "metadata": {},
   "outputs": [
    {
     "name": "stdout",
     "output_type": "stream",
     "text": [
      "python\n",
      "c\n",
      "java\n",
      "c++\n",
      "55\n"
     ]
    }
   ],
   "source": [
    "for lang in [\"python\" , \"c\" , \"java\" , \"c++\"] :\n",
    "    print(lang)\n",
    "\n",
    "sum = 0\n",
    "for i in range(1,10+1) :\n",
    "    sum += i\n",
    "    \n",
    "print(sum)"
   ]
  },
  {
   "cell_type": "code",
   "execution_count": 141,
   "metadata": {},
   "outputs": [
    {
     "name": "stdout",
     "output_type": "stream",
     "text": [
      "What's your name? namseok\n",
      "Hi, namseok. So, where is Namseok?\n",
      "What's your name? Namseok1\n",
      "Hi, Namseok1. So, where is Namseok?\n",
      "What's your name? Namseok\n",
      "Hi, Namseok. So, where is Namseok?\n"
     ]
    }
   ],
   "source": [
    "# name 이 정의되지 않은 체로 while loop이 시작됐지만, while loop 안에서 name을 받기 때문에 프로그램이 실행됨\n",
    "\n",
    "while name != \"Namseok\" :\n",
    "    name = input(\"What's your name? \")\n",
    "    print(\"Hi, \" + name + \". So, where is Namseok?\")"
   ]
  },
  {
   "cell_type": "code",
   "execution_count": 148,
   "metadata": {},
   "outputs": [
    {
     "name": "stdout",
     "output_type": "stream",
     "text": [
      "gogo!\n",
      "gogo!\n",
      "gogo!\n",
      "gogo!\n",
      "gogo!\n",
      "gogo!\n",
      "gogo!\n",
      "gogo!\n",
      "gogo!\n",
      "gogo!\n",
      "gogo!\n",
      "gogo!\n",
      "gogo!\n",
      "gogo!\n",
      "gogo!\n",
      "gogo!\n",
      "gogo!\n",
      "gogo!\n",
      "gogo!\n",
      "gogo!\n",
      "gogo!\n",
      "gogo!\n",
      "gogo!\n",
      "gogo!\n",
      "gogo!\n",
      "gogo!\n",
      "gogo!\n",
      "gogo!\n",
      "gogo!\n",
      "gogo!\n",
      "gogo!\n",
      "gogo!\n",
      "gogo!\n",
      "gogo!\n",
      "gogo!\n",
      "gogo!\n",
      "gogo!\n",
      "gogo!\n",
      "gogo!\n",
      "gogo!\n",
      "gogo!\n",
      "gogo!\n",
      "gogo!\n",
      "gogo!\n",
      "gogo!\n",
      "gogo!\n",
      "gogo!\n",
      "gogo!\n",
      "gogo!\n",
      "gogo!\n",
      "gogo!\n",
      "gogo!\n",
      "gogo!\n",
      "gogo!\n",
      "gogo!\n",
      "gogo!\n",
      "gogo!\n",
      "gogo!\n",
      "gogo!\n",
      "gogo!\n",
      "gogo!\n",
      "gogo!\n",
      "gogo!\n",
      "gogo!\n",
      "gogo!\n",
      "gogo!\n",
      "gogo!\n",
      "gogo!\n",
      "gogo!\n",
      "gogo!\n",
      "gogo!\n",
      "gogo!\n",
      "gogo!\n",
      "gogo!\n",
      "gogo!\n",
      "gogo!\n",
      "gogo!\n",
      "gogo!\n",
      "gogo!\n",
      "gogo!\n",
      "gogo!\n",
      "gogo!\n",
      "gogo!\n",
      "gogo!\n",
      "gogo!\n",
      "gogo!\n",
      "gogo!\n",
      "gogo!\n",
      "gogo!\n",
      "gogo!\n",
      "gogo!\n",
      "gogo!\n",
      "gogo!\n",
      "gogo!\n",
      "gogo!\n",
      "gogo!\n",
      "gogo!\n",
      "gogo!\n",
      "gogo!\n",
      "gogo!\n"
     ]
    }
   ],
   "source": [
    "name = \"namseok\"\n",
    "i = 0\n",
    "\n",
    "while name != \"Namseok\" and i < 99+1 :\n",
    "    print(\"gogo!\")\n",
    "    i += 1\n",
    "\n",
    "    "
   ]
  },
  {
   "cell_type": "code",
   "execution_count": 153,
   "metadata": {},
   "outputs": [
    {
     "name": "stdout",
     "output_type": "stream",
     "text": [
      "1\n",
      "2\n",
      "fizz\n",
      "4\n",
      "buzz\n",
      "fizz\n",
      "7\n",
      "8\n",
      "fizz\n",
      "buzz\n",
      "11\n",
      "fizz\n",
      "13\n",
      "14\n",
      "fizzbuzz\n",
      "16\n",
      "17\n",
      "fizz\n",
      "19\n",
      "buzz\n",
      "fizz\n",
      "22\n",
      "23\n",
      "fizz\n",
      "buzz\n",
      "26\n",
      "fizz\n",
      "28\n",
      "29\n",
      "fizzbuzz\n",
      "31\n",
      "32\n",
      "fizz\n",
      "34\n",
      "buzz\n",
      "fizz\n",
      "37\n",
      "38\n",
      "fizz\n",
      "buzz\n",
      "41\n",
      "fizz\n",
      "43\n",
      "44\n",
      "fizzbuzz\n",
      "46\n",
      "47\n",
      "fizz\n",
      "49\n",
      "buzz\n",
      "fizz\n",
      "52\n",
      "53\n",
      "fizz\n",
      "buzz\n",
      "56\n",
      "fizz\n",
      "58\n",
      "59\n",
      "fizzbuzz\n",
      "61\n",
      "62\n",
      "fizz\n",
      "64\n",
      "buzz\n",
      "fizz\n",
      "67\n",
      "68\n",
      "fizz\n",
      "buzz\n",
      "71\n",
      "fizz\n",
      "73\n",
      "74\n",
      "fizzbuzz\n",
      "76\n",
      "77\n",
      "fizz\n",
      "79\n",
      "buzz\n",
      "fizz\n",
      "82\n",
      "83\n",
      "fizz\n",
      "buzz\n",
      "86\n",
      "fizz\n",
      "88\n",
      "89\n",
      "fizzbuzz\n",
      "91\n",
      "92\n",
      "fizz\n",
      "94\n",
      "buzz\n",
      "fizz\n",
      "97\n",
      "98\n",
      "fizz\n",
      "buzz\n"
     ]
    }
   ],
   "source": [
    "# 3의 배수 fizz , 5의 배수 buzz , 15의 배수 fizzbuzz\n",
    "\n",
    "i = 0\n",
    "\n",
    "# for i in range(1,100+1) :\n",
    "#     if i % 15 == 0 :\n",
    "#         print(\"fizzbuzz\")\n",
    "#     elif i % 3 == 0 :\n",
    "#         print(\"fizz\")\n",
    "#     elif i % 5 == 0 :\n",
    "#         print(\"buzz\")\n",
    "#     else :\n",
    "#         print(i)\n",
    "        \n",
    "i = 1        \n",
    "while i < (100+1) :\n",
    "    if i % 15 == 0 :\n",
    "        print(\"fizzbuzz\")\n",
    "    elif i % 3 == 0 :\n",
    "        print(\"fizz\")\n",
    "    elif i % 5 == 0 :\n",
    "        print(\"buzz\")\n",
    "    else :\n",
    "        print(i)  \n",
    "    i += 1\n",
    "\n",
    "# 3의 배수가 개수가 많기 때문에 5의 배수보다 먼저 처리하면 속도 면에서 개선이 이뤄진다??"
   ]
  },
  {
   "cell_type": "code",
   "execution_count": 158,
   "metadata": {},
   "outputs": [
    {
     "data": {
      "text/plain": [
       "[1, 0, 0]"
      ]
     },
     "execution_count": 158,
     "metadata": {},
     "output_type": "execute_result"
    }
   ],
   "source": [
    "# 선행 사건 (베이즈 확률)\n",
    "# 도어가 [1,0,0] ==> random.shuffle\n",
    "# 사용자가 0,1,2 중 하나를 뽑음 random.randomrange(3)\n",
    "# is choice 1? => stay 1 plus\n",
    "# is choice 0? => switch 1 plus\n",
    "# 유저가 선택을 바꿨을 때 자동차를 가질 확률\n",
    "# 유저가 선택을 바꾸지 않알\n",
    "\n",
    "\n",
    "import random\n",
    "\n",
    "\n",
    "stay = 0\n",
    "switch = 0\n",
    "\n",
    "doors = [1,0,0]\n",
    "random.shuffle(doors)\n",
    "\n",
    "choice = random.randrange(3)  #0,1,2 중에 하나를 뽑음\n",
    "\n"
   ]
  },
  {
   "cell_type": "code",
   "execution_count": null,
   "metadata": {
    "collapsed": true
   },
   "outputs": [],
   "source": []
  }
 ],
 "metadata": {
  "kernelspec": {
   "display_name": "Python 3",
   "language": "python",
   "name": "python3"
  },
  "language_info": {
   "codemirror_mode": {
    "name": "ipython",
    "version": 3
   },
   "file_extension": ".py",
   "mimetype": "text/x-python",
   "name": "python",
   "nbconvert_exporter": "python",
   "pygments_lexer": "ipython3",
   "version": "3.6.1"
  }
 },
 "nbformat": 4,
 "nbformat_minor": 2
}
